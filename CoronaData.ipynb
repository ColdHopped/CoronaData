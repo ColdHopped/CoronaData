{
 "cells": [
  {
   "cell_type": "markdown",
   "metadata": {},
   "source": [
    "# CoronaData"
   ]
  },
  {
   "cell_type": "markdown",
   "metadata": {},
   "source": [
    "### Analyze open data of RIVM \n",
    "Johan van Voskuilen, 16-08-2020 (first)"
   ]
  },
  {
   "cell_type": "markdown",
   "metadata": {},
   "source": [
    "Todo: add temperature data to look for trends; use https://cdn.knmi.nl/knmi/map/page/klimatologie/gegevens/daggegevens/etmgeg_260.zip which gives homogenised temperature data (a.o.) from De Bilt."
   ]
  },
  {
   "cell_type": "markdown",
   "metadata": {},
   "source": [
    "##### Import Python modules"
   ]
  },
  {
   "cell_type": "code",
   "execution_count": 1,
   "metadata": {},
   "outputs": [],
   "source": [
    "%matplotlib inline\n",
    "\n",
    "import numpy as np\n",
    "from matplotlib import pyplot as plt\n",
    "import pandas as pd\n",
    "import seaborn as sns\n",
    "import urllib.request"
   ]
  },
  {
   "cell_type": "markdown",
   "metadata": {},
   "source": [
    "##### Import data"
   ]
  },
  {
   "cell_type": "code",
   "execution_count": 2,
   "metadata": {},
   "outputs": [
    {
     "name": "stdout",
     "output_type": "stream",
     "text": [
      "<class 'pandas.core.frame.DataFrame'>\n",
      "DatetimeIndex: 71198 entries, 2020-03-13 10:00:00 to 2020-09-22 10:00:00\n",
      "Data columns (total 6 columns):\n",
      " #   Column              Non-Null Count  Dtype \n",
      "---  ------              --------------  ----- \n",
      " 0   Municipality_code   68870 non-null  object\n",
      " 1   Municipality_name   68870 non-null  object\n",
      " 2   Province            71198 non-null  object\n",
      " 3   Total_reported      71198 non-null  int64 \n",
      " 4   Hospital_admission  71198 non-null  int64 \n",
      " 5   Deceased            71198 non-null  int64 \n",
      "dtypes: int64(3), object(3)\n",
      "memory usage: 3.8+ MB\n"
     ]
    }
   ],
   "source": [
    "dataurl = 'https://data.rivm.nl/covid-19/COVID-19_aantallen_gemeente_cumulatief.csv'\n",
    "with urllib.request.urlopen(dataurl) as response:\n",
    "    df = pd.read_csv(response, delimiter=';', parse_dates=[0], index_col=0)\n",
    "df.info()"
   ]
  },
  {
   "cell_type": "code",
   "execution_count": 3,
   "metadata": {},
   "outputs": [
    {
     "data": {
      "text/html": [
       "<div>\n",
       "<style scoped>\n",
       "    .dataframe tbody tr th:only-of-type {\n",
       "        vertical-align: middle;\n",
       "    }\n",
       "\n",
       "    .dataframe tbody tr th {\n",
       "        vertical-align: top;\n",
       "    }\n",
       "\n",
       "    .dataframe thead th {\n",
       "        text-align: right;\n",
       "    }\n",
       "</style>\n",
       "<table border=\"1\" class=\"dataframe\">\n",
       "  <thead>\n",
       "    <tr style=\"text-align: right;\">\n",
       "      <th></th>\n",
       "      <th>Total_reported</th>\n",
       "      <th>Hospital_admission</th>\n",
       "      <th>Deceased</th>\n",
       "    </tr>\n",
       "  </thead>\n",
       "  <tbody>\n",
       "    <tr>\n",
       "      <th>count</th>\n",
       "      <td>71198.000000</td>\n",
       "      <td>71198.000000</td>\n",
       "      <td>71198.000000</td>\n",
       "    </tr>\n",
       "    <tr>\n",
       "      <th>mean</th>\n",
       "      <td>127.848100</td>\n",
       "      <td>28.301891</td>\n",
       "      <td>13.680946</td>\n",
       "    </tr>\n",
       "    <tr>\n",
       "      <th>std</th>\n",
       "      <td>316.145669</td>\n",
       "      <td>51.377411</td>\n",
       "      <td>28.170543</td>\n",
       "    </tr>\n",
       "    <tr>\n",
       "      <th>min</th>\n",
       "      <td>0.000000</td>\n",
       "      <td>0.000000</td>\n",
       "      <td>0.000000</td>\n",
       "    </tr>\n",
       "    <tr>\n",
       "      <th>25%</th>\n",
       "      <td>30.000000</td>\n",
       "      <td>7.000000</td>\n",
       "      <td>2.000000</td>\n",
       "    </tr>\n",
       "    <tr>\n",
       "      <th>50%</th>\n",
       "      <td>67.000000</td>\n",
       "      <td>16.000000</td>\n",
       "      <td>6.000000</td>\n",
       "    </tr>\n",
       "    <tr>\n",
       "      <th>75%</th>\n",
       "      <td>135.000000</td>\n",
       "      <td>31.000000</td>\n",
       "      <td>15.000000</td>\n",
       "    </tr>\n",
       "    <tr>\n",
       "      <th>max</th>\n",
       "      <td>10338.000000</td>\n",
       "      <td>720.000000</td>\n",
       "      <td>359.000000</td>\n",
       "    </tr>\n",
       "  </tbody>\n",
       "</table>\n",
       "</div>"
      ],
      "text/plain": [
       "       Total_reported  Hospital_admission      Deceased\n",
       "count    71198.000000        71198.000000  71198.000000\n",
       "mean       127.848100           28.301891     13.680946\n",
       "std        316.145669           51.377411     28.170543\n",
       "min          0.000000            0.000000      0.000000\n",
       "25%         30.000000            7.000000      2.000000\n",
       "50%         67.000000           16.000000      6.000000\n",
       "75%        135.000000           31.000000     15.000000\n",
       "max      10338.000000          720.000000    359.000000"
      ]
     },
     "execution_count": 3,
     "metadata": {},
     "output_type": "execute_result"
    }
   ],
   "source": [
    "df.describe()"
   ]
  },
  {
   "cell_type": "markdown",
   "metadata": {},
   "source": [
    "##### Analyze data"
   ]
  },
  {
   "cell_type": "markdown",
   "metadata": {},
   "source": [
    "###### Analyze cumulative per day"
   ]
  },
  {
   "cell_type": "code",
   "execution_count": 4,
   "metadata": {},
   "outputs": [
    {
     "data": {
      "text/plain": [
       "Province              GroningenGroningenGroningenGroningenFlevolandG...\n",
       "Total_reported                                                      804\n",
       "Hospital_admission                                                  115\n",
       "Deceased                                                              9\n",
       "dtype: object"
      ]
     },
     "execution_count": 4,
     "metadata": {},
     "output_type": "execute_result"
    }
   ],
   "source": [
    "df['2020-03-13'].sum()"
   ]
  },
  {
   "cell_type": "code",
   "execution_count": 5,
   "metadata": {},
   "outputs": [],
   "source": [
    "CumulativePerDay = df.groupby(df.index.date).sum()"
   ]
  },
  {
   "cell_type": "code",
   "execution_count": 6,
   "metadata": {},
   "outputs": [
    {
     "data": {
      "text/plain": [
       "Index([2020-03-13, 2020-03-14, 2020-03-15, 2020-03-16, 2020-03-17, 2020-03-18,\n",
       "       2020-03-19, 2020-03-20, 2020-03-21, 2020-03-22,\n",
       "       ...\n",
       "       2020-09-13, 2020-09-14, 2020-09-15, 2020-09-16, 2020-09-17, 2020-09-18,\n",
       "       2020-09-19, 2020-09-20, 2020-09-21, 2020-09-22],\n",
       "      dtype='object', length=194)"
      ]
     },
     "execution_count": 6,
     "metadata": {},
     "output_type": "execute_result"
    }
   ],
   "source": [
    "CumulativePerDay.index"
   ]
  },
  {
   "cell_type": "markdown",
   "metadata": {},
   "source": [
    "###### Calculate differential per day"
   ]
  },
  {
   "cell_type": "code",
   "execution_count": 7,
   "metadata": {},
   "outputs": [
    {
     "data": {
      "text/html": [
       "<div>\n",
       "<style scoped>\n",
       "    .dataframe tbody tr th:only-of-type {\n",
       "        vertical-align: middle;\n",
       "    }\n",
       "\n",
       "    .dataframe tbody tr th {\n",
       "        vertical-align: top;\n",
       "    }\n",
       "\n",
       "    .dataframe thead th {\n",
       "        text-align: right;\n",
       "    }\n",
       "</style>\n",
       "<table border=\"1\" class=\"dataframe\">\n",
       "  <thead>\n",
       "    <tr style=\"text-align: right;\">\n",
       "      <th></th>\n",
       "      <th>Total_reported</th>\n",
       "      <th>Hospital_admission</th>\n",
       "      <th>Deceased</th>\n",
       "    </tr>\n",
       "  </thead>\n",
       "  <tbody>\n",
       "    <tr>\n",
       "      <th>2020-03-13</th>\n",
       "      <td>804</td>\n",
       "      <td>115</td>\n",
       "      <td>9</td>\n",
       "    </tr>\n",
       "    <tr>\n",
       "      <th>2020-03-14</th>\n",
       "      <td>959</td>\n",
       "      <td>136</td>\n",
       "      <td>12</td>\n",
       "    </tr>\n",
       "    <tr>\n",
       "      <th>2020-03-15</th>\n",
       "      <td>1135</td>\n",
       "      <td>162</td>\n",
       "      <td>19</td>\n",
       "    </tr>\n",
       "    <tr>\n",
       "      <th>2020-03-16</th>\n",
       "      <td>1413</td>\n",
       "      <td>205</td>\n",
       "      <td>23</td>\n",
       "    </tr>\n",
       "    <tr>\n",
       "      <th>2020-03-17</th>\n",
       "      <td>1705</td>\n",
       "      <td>314</td>\n",
       "      <td>40</td>\n",
       "    </tr>\n",
       "    <tr>\n",
       "      <th>...</th>\n",
       "      <td>...</td>\n",
       "      <td>...</td>\n",
       "      <td>...</td>\n",
       "    </tr>\n",
       "    <tr>\n",
       "      <th>2020-09-18</th>\n",
       "      <td>90047</td>\n",
       "      <td>12356</td>\n",
       "      <td>6273</td>\n",
       "    </tr>\n",
       "    <tr>\n",
       "      <th>2020-09-19</th>\n",
       "      <td>91934</td>\n",
       "      <td>12389</td>\n",
       "      <td>6275</td>\n",
       "    </tr>\n",
       "    <tr>\n",
       "      <th>2020-09-20</th>\n",
       "      <td>93778</td>\n",
       "      <td>12409</td>\n",
       "      <td>6279</td>\n",
       "    </tr>\n",
       "    <tr>\n",
       "      <th>2020-09-21</th>\n",
       "      <td>95995</td>\n",
       "      <td>12435</td>\n",
       "      <td>6281</td>\n",
       "    </tr>\n",
       "    <tr>\n",
       "      <th>2020-09-22</th>\n",
       "      <td>98240</td>\n",
       "      <td>12467</td>\n",
       "      <td>6291</td>\n",
       "    </tr>\n",
       "  </tbody>\n",
       "</table>\n",
       "<p>194 rows × 3 columns</p>\n",
       "</div>"
      ],
      "text/plain": [
       "            Total_reported  Hospital_admission  Deceased\n",
       "2020-03-13             804                 115         9\n",
       "2020-03-14             959                 136        12\n",
       "2020-03-15            1135                 162        19\n",
       "2020-03-16            1413                 205        23\n",
       "2020-03-17            1705                 314        40\n",
       "...                    ...                 ...       ...\n",
       "2020-09-18           90047               12356      6273\n",
       "2020-09-19           91934               12389      6275\n",
       "2020-09-20           93778               12409      6279\n",
       "2020-09-21           95995               12435      6281\n",
       "2020-09-22           98240               12467      6291\n",
       "\n",
       "[194 rows x 3 columns]"
      ]
     },
     "execution_count": 7,
     "metadata": {},
     "output_type": "execute_result"
    }
   ],
   "source": [
    "CumulativePerDay"
   ]
  },
  {
   "cell_type": "code",
   "execution_count": 8,
   "metadata": {
    "scrolled": false
   },
   "outputs": [
    {
     "data": {
      "text/html": [
       "<div>\n",
       "<style scoped>\n",
       "    .dataframe tbody tr th:only-of-type {\n",
       "        vertical-align: middle;\n",
       "    }\n",
       "\n",
       "    .dataframe tbody tr th {\n",
       "        vertical-align: top;\n",
       "    }\n",
       "\n",
       "    .dataframe thead th {\n",
       "        text-align: right;\n",
       "    }\n",
       "</style>\n",
       "<table border=\"1\" class=\"dataframe\">\n",
       "  <thead>\n",
       "    <tr style=\"text-align: right;\">\n",
       "      <th></th>\n",
       "      <th>Total_reported</th>\n",
       "      <th>Hospital_admission</th>\n",
       "      <th>Deceased</th>\n",
       "    </tr>\n",
       "  </thead>\n",
       "  <tbody>\n",
       "    <tr>\n",
       "      <th>2020-08-29</th>\n",
       "      <td>501</td>\n",
       "      <td>2</td>\n",
       "      <td>4</td>\n",
       "    </tr>\n",
       "    <tr>\n",
       "      <th>2020-08-30</th>\n",
       "      <td>508</td>\n",
       "      <td>3</td>\n",
       "      <td>0</td>\n",
       "    </tr>\n",
       "    <tr>\n",
       "      <th>2020-08-31</th>\n",
       "      <td>527</td>\n",
       "      <td>11</td>\n",
       "      <td>0</td>\n",
       "    </tr>\n",
       "    <tr>\n",
       "      <th>2020-09-01</th>\n",
       "      <td>462</td>\n",
       "      <td>5</td>\n",
       "      <td>6</td>\n",
       "    </tr>\n",
       "    <tr>\n",
       "      <th>2020-09-02</th>\n",
       "      <td>734</td>\n",
       "      <td>6</td>\n",
       "      <td>5</td>\n",
       "    </tr>\n",
       "    <tr>\n",
       "      <th>2020-09-03</th>\n",
       "      <td>601</td>\n",
       "      <td>5</td>\n",
       "      <td>0</td>\n",
       "    </tr>\n",
       "    <tr>\n",
       "      <th>2020-09-04</th>\n",
       "      <td>744</td>\n",
       "      <td>7</td>\n",
       "      <td>2</td>\n",
       "    </tr>\n",
       "    <tr>\n",
       "      <th>2020-09-05</th>\n",
       "      <td>654</td>\n",
       "      <td>5</td>\n",
       "      <td>4</td>\n",
       "    </tr>\n",
       "    <tr>\n",
       "      <th>2020-09-06</th>\n",
       "      <td>925</td>\n",
       "      <td>5</td>\n",
       "      <td>2</td>\n",
       "    </tr>\n",
       "    <tr>\n",
       "      <th>2020-09-07</th>\n",
       "      <td>797</td>\n",
       "      <td>9</td>\n",
       "      <td>0</td>\n",
       "    </tr>\n",
       "    <tr>\n",
       "      <th>2020-09-08</th>\n",
       "      <td>964</td>\n",
       "      <td>6</td>\n",
       "      <td>1</td>\n",
       "    </tr>\n",
       "    <tr>\n",
       "      <th>2020-09-09</th>\n",
       "      <td>1140</td>\n",
       "      <td>8</td>\n",
       "      <td>2</td>\n",
       "    </tr>\n",
       "    <tr>\n",
       "      <th>2020-09-10</th>\n",
       "      <td>823</td>\n",
       "      <td>17</td>\n",
       "      <td>3</td>\n",
       "    </tr>\n",
       "    <tr>\n",
       "      <th>2020-09-11</th>\n",
       "      <td>1270</td>\n",
       "      <td>10</td>\n",
       "      <td>3</td>\n",
       "    </tr>\n",
       "    <tr>\n",
       "      <th>2020-09-12</th>\n",
       "      <td>1231</td>\n",
       "      <td>6</td>\n",
       "      <td>1</td>\n",
       "    </tr>\n",
       "    <tr>\n",
       "      <th>2020-09-13</th>\n",
       "      <td>1087</td>\n",
       "      <td>17</td>\n",
       "      <td>1</td>\n",
       "    </tr>\n",
       "    <tr>\n",
       "      <th>2020-09-14</th>\n",
       "      <td>1300</td>\n",
       "      <td>8</td>\n",
       "      <td>2</td>\n",
       "    </tr>\n",
       "    <tr>\n",
       "      <th>2020-09-15</th>\n",
       "      <td>1379</td>\n",
       "      <td>24</td>\n",
       "      <td>2</td>\n",
       "    </tr>\n",
       "    <tr>\n",
       "      <th>2020-09-16</th>\n",
       "      <td>1542</td>\n",
       "      <td>15</td>\n",
       "      <td>2</td>\n",
       "    </tr>\n",
       "    <tr>\n",
       "      <th>2020-09-17</th>\n",
       "      <td>1753</td>\n",
       "      <td>14</td>\n",
       "      <td>6</td>\n",
       "    </tr>\n",
       "    <tr>\n",
       "      <th>2020-09-18</th>\n",
       "      <td>1974</td>\n",
       "      <td>12</td>\n",
       "      <td>7</td>\n",
       "    </tr>\n",
       "    <tr>\n",
       "      <th>2020-09-19</th>\n",
       "      <td>1887</td>\n",
       "      <td>33</td>\n",
       "      <td>2</td>\n",
       "    </tr>\n",
       "    <tr>\n",
       "      <th>2020-09-20</th>\n",
       "      <td>1844</td>\n",
       "      <td>20</td>\n",
       "      <td>4</td>\n",
       "    </tr>\n",
       "    <tr>\n",
       "      <th>2020-09-21</th>\n",
       "      <td>2217</td>\n",
       "      <td>26</td>\n",
       "      <td>2</td>\n",
       "    </tr>\n",
       "    <tr>\n",
       "      <th>2020-09-22</th>\n",
       "      <td>2245</td>\n",
       "      <td>32</td>\n",
       "      <td>10</td>\n",
       "    </tr>\n",
       "  </tbody>\n",
       "</table>\n",
       "</div>"
      ],
      "text/plain": [
       "            Total_reported  Hospital_admission  Deceased\n",
       "2020-08-29             501                   2         4\n",
       "2020-08-30             508                   3         0\n",
       "2020-08-31             527                  11         0\n",
       "2020-09-01             462                   5         6\n",
       "2020-09-02             734                   6         5\n",
       "2020-09-03             601                   5         0\n",
       "2020-09-04             744                   7         2\n",
       "2020-09-05             654                   5         4\n",
       "2020-09-06             925                   5         2\n",
       "2020-09-07             797                   9         0\n",
       "2020-09-08             964                   6         1\n",
       "2020-09-09            1140                   8         2\n",
       "2020-09-10             823                  17         3\n",
       "2020-09-11            1270                  10         3\n",
       "2020-09-12            1231                   6         1\n",
       "2020-09-13            1087                  17         1\n",
       "2020-09-14            1300                   8         2\n",
       "2020-09-15            1379                  24         2\n",
       "2020-09-16            1542                  15         2\n",
       "2020-09-17            1753                  14         6\n",
       "2020-09-18            1974                  12         7\n",
       "2020-09-19            1887                  33         2\n",
       "2020-09-20            1844                  20         4\n",
       "2020-09-21            2217                  26         2\n",
       "2020-09-22            2245                  32        10"
      ]
     },
     "execution_count": 8,
     "metadata": {},
     "output_type": "execute_result"
    }
   ],
   "source": [
    "DifferencePerDay = CumulativePerDay.diff().fillna(CumulativePerDay).astype(int)\n",
    "DifferencePerDay.tail(25)"
   ]
  },
  {
   "cell_type": "markdown",
   "metadata": {},
   "source": [
    "###### Add rolling mean for total reported"
   ]
  },
  {
   "cell_type": "code",
   "execution_count": 9,
   "metadata": {},
   "outputs": [
    {
     "data": {
      "text/html": [
       "<div>\n",
       "<style scoped>\n",
       "    .dataframe tbody tr th:only-of-type {\n",
       "        vertical-align: middle;\n",
       "    }\n",
       "\n",
       "    .dataframe tbody tr th {\n",
       "        vertical-align: top;\n",
       "    }\n",
       "\n",
       "    .dataframe thead th {\n",
       "        text-align: right;\n",
       "    }\n",
       "</style>\n",
       "<table border=\"1\" class=\"dataframe\">\n",
       "  <thead>\n",
       "    <tr style=\"text-align: right;\">\n",
       "      <th></th>\n",
       "      <th>Total_reported</th>\n",
       "      <th>Hospital_admission</th>\n",
       "      <th>Deceased</th>\n",
       "      <th>Total_reported_rollingmean3days</th>\n",
       "      <th>Hospital_admission_rollingmean3days</th>\n",
       "      <th>Deceased_rollingmean3days</th>\n",
       "    </tr>\n",
       "  </thead>\n",
       "  <tbody>\n",
       "    <tr>\n",
       "      <th>2020-09-18</th>\n",
       "      <td>1974</td>\n",
       "      <td>12</td>\n",
       "      <td>7</td>\n",
       "      <td>1756.333333</td>\n",
       "      <td>13.666667</td>\n",
       "      <td>5.000000</td>\n",
       "    </tr>\n",
       "    <tr>\n",
       "      <th>2020-09-19</th>\n",
       "      <td>1887</td>\n",
       "      <td>33</td>\n",
       "      <td>2</td>\n",
       "      <td>1871.333333</td>\n",
       "      <td>19.666667</td>\n",
       "      <td>5.000000</td>\n",
       "    </tr>\n",
       "    <tr>\n",
       "      <th>2020-09-20</th>\n",
       "      <td>1844</td>\n",
       "      <td>20</td>\n",
       "      <td>4</td>\n",
       "      <td>1901.666667</td>\n",
       "      <td>21.666667</td>\n",
       "      <td>4.333333</td>\n",
       "    </tr>\n",
       "    <tr>\n",
       "      <th>2020-09-21</th>\n",
       "      <td>2217</td>\n",
       "      <td>26</td>\n",
       "      <td>2</td>\n",
       "      <td>1982.666667</td>\n",
       "      <td>26.333333</td>\n",
       "      <td>2.666667</td>\n",
       "    </tr>\n",
       "    <tr>\n",
       "      <th>2020-09-22</th>\n",
       "      <td>2245</td>\n",
       "      <td>32</td>\n",
       "      <td>10</td>\n",
       "      <td>2102.000000</td>\n",
       "      <td>26.000000</td>\n",
       "      <td>5.333333</td>\n",
       "    </tr>\n",
       "  </tbody>\n",
       "</table>\n",
       "</div>"
      ],
      "text/plain": [
       "            Total_reported  Hospital_admission  Deceased  \\\n",
       "2020-09-18            1974                  12         7   \n",
       "2020-09-19            1887                  33         2   \n",
       "2020-09-20            1844                  20         4   \n",
       "2020-09-21            2217                  26         2   \n",
       "2020-09-22            2245                  32        10   \n",
       "\n",
       "            Total_reported_rollingmean3days  \\\n",
       "2020-09-18                      1756.333333   \n",
       "2020-09-19                      1871.333333   \n",
       "2020-09-20                      1901.666667   \n",
       "2020-09-21                      1982.666667   \n",
       "2020-09-22                      2102.000000   \n",
       "\n",
       "            Hospital_admission_rollingmean3days  Deceased_rollingmean3days  \n",
       "2020-09-18                            13.666667                   5.000000  \n",
       "2020-09-19                            19.666667                   5.000000  \n",
       "2020-09-20                            21.666667                   4.333333  \n",
       "2020-09-21                            26.333333                   2.666667  \n",
       "2020-09-22                            26.000000                   5.333333  "
      ]
     },
     "execution_count": 9,
     "metadata": {},
     "output_type": "execute_result"
    }
   ],
   "source": [
    "DifferencePerDay['Total_reported_rollingmean3days'] = DifferencePerDay['Total_reported'].rolling(3, min_periods=1).mean()\n",
    "DifferencePerDay['Hospital_admission_rollingmean3days'] = DifferencePerDay['Hospital_admission'].rolling(3, min_periods=1).mean()\n",
    "DifferencePerDay['Deceased_rollingmean3days'] = DifferencePerDay['Deceased'].rolling(3, min_periods=1).mean()\n",
    "DifferencePerDay.tail()"
   ]
  },
  {
   "cell_type": "markdown",
   "metadata": {},
   "source": [
    "###### Weekly rolling sum of new reported cases, hospital admissions and deceased"
   ]
  },
  {
   "cell_type": "code",
   "execution_count": 10,
   "metadata": {},
   "outputs": [
    {
     "data": {
      "text/html": [
       "<div>\n",
       "<style scoped>\n",
       "    .dataframe tbody tr th:only-of-type {\n",
       "        vertical-align: middle;\n",
       "    }\n",
       "\n",
       "    .dataframe tbody tr th {\n",
       "        vertical-align: top;\n",
       "    }\n",
       "\n",
       "    .dataframe thead th {\n",
       "        text-align: right;\n",
       "    }\n",
       "</style>\n",
       "<table border=\"1\" class=\"dataframe\">\n",
       "  <thead>\n",
       "    <tr style=\"text-align: right;\">\n",
       "      <th></th>\n",
       "      <th>New_reported_rollingsum1week</th>\n",
       "      <th>Hospital_admission_rollingsum1week</th>\n",
       "      <th>Deceased_rollingsum1week</th>\n",
       "    </tr>\n",
       "  </thead>\n",
       "  <tbody>\n",
       "    <tr>\n",
       "      <th>2020-09-18</th>\n",
       "      <td>10266.0</td>\n",
       "      <td>96.0</td>\n",
       "      <td>21.0</td>\n",
       "    </tr>\n",
       "    <tr>\n",
       "      <th>2020-09-19</th>\n",
       "      <td>10922.0</td>\n",
       "      <td>123.0</td>\n",
       "      <td>22.0</td>\n",
       "    </tr>\n",
       "    <tr>\n",
       "      <th>2020-09-20</th>\n",
       "      <td>11679.0</td>\n",
       "      <td>126.0</td>\n",
       "      <td>25.0</td>\n",
       "    </tr>\n",
       "    <tr>\n",
       "      <th>2020-09-21</th>\n",
       "      <td>12596.0</td>\n",
       "      <td>144.0</td>\n",
       "      <td>25.0</td>\n",
       "    </tr>\n",
       "    <tr>\n",
       "      <th>2020-09-22</th>\n",
       "      <td>13462.0</td>\n",
       "      <td>152.0</td>\n",
       "      <td>33.0</td>\n",
       "    </tr>\n",
       "  </tbody>\n",
       "</table>\n",
       "</div>"
      ],
      "text/plain": [
       "            New_reported_rollingsum1week  Hospital_admission_rollingsum1week  \\\n",
       "2020-09-18                       10266.0                                96.0   \n",
       "2020-09-19                       10922.0                               123.0   \n",
       "2020-09-20                       11679.0                               126.0   \n",
       "2020-09-21                       12596.0                               144.0   \n",
       "2020-09-22                       13462.0                               152.0   \n",
       "\n",
       "            Deceased_rollingsum1week  \n",
       "2020-09-18                      21.0  \n",
       "2020-09-19                      22.0  \n",
       "2020-09-20                      25.0  \n",
       "2020-09-21                      25.0  \n",
       "2020-09-22                      33.0  "
      ]
     },
     "execution_count": 10,
     "metadata": {},
     "output_type": "execute_result"
    }
   ],
   "source": [
    "Weekly = pd.DataFrame(index=DifferencePerDay.index)\n",
    "Weekly['New_reported_rollingsum1week'] = DifferencePerDay['Total_reported'].rolling(7, min_periods=1).sum()\n",
    "Weekly['Hospital_admission_rollingsum1week'] = DifferencePerDay['Hospital_admission'].rolling(7, min_periods=1).sum()\n",
    "Weekly['Deceased_rollingsum1week'] = DifferencePerDay['Deceased'].rolling(7, min_periods=1).sum()\n",
    "Weekly.tail()"
   ]
  },
  {
   "cell_type": "markdown",
   "metadata": {},
   "source": [
    "##### Plot results"
   ]
  },
  {
   "cell_type": "markdown",
   "metadata": {},
   "source": [
    "Plot of cumulative numbers"
   ]
  },
  {
   "cell_type": "code",
   "execution_count": 11,
   "metadata": {
    "scrolled": true
   },
   "outputs": [
    {
     "data": {
      "image/png": "[encoded data removed]",
      "text/plain": [
       "<Figure size 432x288 with 1 Axes>"
      ]
     },
     "metadata": {
      "needs_background": "light"
     },
     "output_type": "display_data"
    }
   ],
   "source": [
    "ax = sns.lineplot(data = CumulativePerDay)"
   ]
  },
  {
   "cell_type": "markdown",
   "metadata": {},
   "source": [
    "Plot of last days (cumulative)"
   ]
  },
  {
   "cell_type": "code",
   "execution_count": 12,
   "metadata": {
    "scrolled": true
   },
   "outputs": [
    {
     "data": {
      "image/png": "[encoded data removed]",
      "text/plain": [
       "<Figure size 432x288 with 1 Axes>"
      ]
     },
     "metadata": {
      "needs_background": "light"
     },
     "output_type": "display_data"
    }
   ],
   "source": [
    "ax = sns.lineplot(data = CumulativePerDay[-25:])"
   ]
  },
  {
   "cell_type": "markdown",
   "metadata": {},
   "source": [
    "Plot of difference per day"
   ]
  },
  {
   "cell_type": "code",
   "execution_count": 13,
   "metadata": {},
   "outputs": [
    {
     "data": {
      "image/png": "[encoded data removed]",
      "text/plain": [
       "<Figure size 432x288 with 1 Axes>"
      ]
     },
     "metadata": {
      "needs_background": "light"
     },
     "output_type": "display_data"
    }
   ],
   "source": [
    "ax = sns.lineplot(data=DifferencePerDay)"
   ]
  },
  {
   "cell_type": "markdown",
   "metadata": {},
   "source": [
    "Zoom in on hospital admissions and deceased:"
   ]
  },
  {
   "cell_type": "code",
   "execution_count": 14,
   "metadata": {},
   "outputs": [
    {
     "data": {
      "image/png": "[encoded data removed]",
      "text/plain": [
       "<Figure size 432x288 with 1 Axes>"
      ]
     },
     "metadata": {
      "needs_background": "light"
     },
     "output_type": "display_data"
    }
   ],
   "source": [
    "ax = sns.lineplot(data=DifferencePerDay.loc[:, ['Hospital_admission', 'Hospital_admission_rollingmean3days', 'Deceased', 'Deceased_rollingmean3days']])"
   ]
  },
  {
   "cell_type": "markdown",
   "metadata": {},
   "source": [
    "Plot of last days (differential)"
   ]
  },
  {
   "cell_type": "code",
   "execution_count": 15,
   "metadata": {},
   "outputs": [
    {
     "data": {
      "image/png": "[encoded data removed]",
      "text/plain": [
       "<Figure size 432x288 with 1 Axes>"
      ]
     },
     "metadata": {
      "needs_background": "light"
     },
     "output_type": "display_data"
    }
   ],
   "source": [
    "ax = sns.lineplot(data=DifferencePerDay[-50:])"
   ]
  },
  {
   "cell_type": "markdown",
   "metadata": {},
   "source": [
    "Results of last days:"
   ]
  },
  {
   "cell_type": "code",
   "execution_count": 25,
   "metadata": {
    "scrolled": true
   },
   "outputs": [
    {
     "data": {
      "text/html": [
       "<div>\n",
       "<style scoped>\n",
       "    .dataframe tbody tr th:only-of-type {\n",
       "        vertical-align: middle;\n",
       "    }\n",
       "\n",
       "    .dataframe tbody tr th {\n",
       "        vertical-align: top;\n",
       "    }\n",
       "\n",
       "    .dataframe thead th {\n",
       "        text-align: right;\n",
       "    }\n",
       "</style>\n",
       "<table border=\"1\" class=\"dataframe\">\n",
       "  <thead>\n",
       "    <tr style=\"text-align: right;\">\n",
       "      <th></th>\n",
       "      <th>Total_reported</th>\n",
       "      <th>Hospital_admission</th>\n",
       "      <th>Deceased</th>\n",
       "      <th>Total_reported_rollingmean3days</th>\n",
       "      <th>Hospital_admission_rollingmean3days</th>\n",
       "      <th>Deceased_rollingmean3days</th>\n",
       "    </tr>\n",
       "  </thead>\n",
       "  <tbody>\n",
       "    <tr>\n",
       "      <th>2020-09-13</th>\n",
       "      <td>1087</td>\n",
       "      <td>17</td>\n",
       "      <td>1</td>\n",
       "      <td>1196.000000</td>\n",
       "      <td>11.000000</td>\n",
       "      <td>1.666667</td>\n",
       "    </tr>\n",
       "    <tr>\n",
       "      <th>2020-09-14</th>\n",
       "      <td>1300</td>\n",
       "      <td>8</td>\n",
       "      <td>2</td>\n",
       "      <td>1206.000000</td>\n",
       "      <td>10.333333</td>\n",
       "      <td>1.333333</td>\n",
       "    </tr>\n",
       "    <tr>\n",
       "      <th>2020-09-15</th>\n",
       "      <td>1379</td>\n",
       "      <td>24</td>\n",
       "      <td>2</td>\n",
       "      <td>1255.333333</td>\n",
       "      <td>16.333333</td>\n",
       "      <td>1.666667</td>\n",
       "    </tr>\n",
       "    <tr>\n",
       "      <th>2020-09-16</th>\n",
       "      <td>1542</td>\n",
       "      <td>15</td>\n",
       "      <td>2</td>\n",
       "      <td>1407.000000</td>\n",
       "      <td>15.666667</td>\n",
       "      <td>2.000000</td>\n",
       "    </tr>\n",
       "    <tr>\n",
       "      <th>2020-09-17</th>\n",
       "      <td>1753</td>\n",
       "      <td>14</td>\n",
       "      <td>6</td>\n",
       "      <td>1558.000000</td>\n",
       "      <td>17.666667</td>\n",
       "      <td>3.333333</td>\n",
       "    </tr>\n",
       "    <tr>\n",
       "      <th>2020-09-18</th>\n",
       "      <td>1974</td>\n",
       "      <td>12</td>\n",
       "      <td>7</td>\n",
       "      <td>1756.333333</td>\n",
       "      <td>13.666667</td>\n",
       "      <td>5.000000</td>\n",
       "    </tr>\n",
       "    <tr>\n",
       "      <th>2020-09-19</th>\n",
       "      <td>1887</td>\n",
       "      <td>33</td>\n",
       "      <td>2</td>\n",
       "      <td>1871.333333</td>\n",
       "      <td>19.666667</td>\n",
       "      <td>5.000000</td>\n",
       "    </tr>\n",
       "    <tr>\n",
       "      <th>2020-09-20</th>\n",
       "      <td>1844</td>\n",
       "      <td>20</td>\n",
       "      <td>4</td>\n",
       "      <td>1901.666667</td>\n",
       "      <td>21.666667</td>\n",
       "      <td>4.333333</td>\n",
       "    </tr>\n",
       "    <tr>\n",
       "      <th>2020-09-21</th>\n",
       "      <td>2217</td>\n",
       "      <td>26</td>\n",
       "      <td>2</td>\n",
       "      <td>1982.666667</td>\n",
       "      <td>26.333333</td>\n",
       "      <td>2.666667</td>\n",
       "    </tr>\n",
       "    <tr>\n",
       "      <th>2020-09-22</th>\n",
       "      <td>2245</td>\n",
       "      <td>32</td>\n",
       "      <td>10</td>\n",
       "      <td>2102.000000</td>\n",
       "      <td>26.000000</td>\n",
       "      <td>5.333333</td>\n",
       "    </tr>\n",
       "  </tbody>\n",
       "</table>\n",
       "</div>"
      ],
      "text/plain": [
       "            Total_reported  Hospital_admission  Deceased  \\\n",
       "2020-09-13            1087                  17         1   \n",
       "2020-09-14            1300                   8         2   \n",
       "2020-09-15            1379                  24         2   \n",
       "2020-09-16            1542                  15         2   \n",
       "2020-09-17            1753                  14         6   \n",
       "2020-09-18            1974                  12         7   \n",
       "2020-09-19            1887                  33         2   \n",
       "2020-09-20            1844                  20         4   \n",
       "2020-09-21            2217                  26         2   \n",
       "2020-09-22            2245                  32        10   \n",
       "\n",
       "            Total_reported_rollingmean3days  \\\n",
       "2020-09-13                      1196.000000   \n",
       "2020-09-14                      1206.000000   \n",
       "2020-09-15                      1255.333333   \n",
       "2020-09-16                      1407.000000   \n",
       "2020-09-17                      1558.000000   \n",
       "2020-09-18                      1756.333333   \n",
       "2020-09-19                      1871.333333   \n",
       "2020-09-20                      1901.666667   \n",
       "2020-09-21                      1982.666667   \n",
       "2020-09-22                      2102.000000   \n",
       "\n",
       "            Hospital_admission_rollingmean3days  Deceased_rollingmean3days  \n",
       "2020-09-13                            11.000000                   1.666667  \n",
       "2020-09-14                            10.333333                   1.333333  \n",
       "2020-09-15                            16.333333                   1.666667  \n",
       "2020-09-16                            15.666667                   2.000000  \n",
       "2020-09-17                            17.666667                   3.333333  \n",
       "2020-09-18                            13.666667                   5.000000  \n",
       "2020-09-19                            19.666667                   5.000000  \n",
       "2020-09-20                            21.666667                   4.333333  \n",
       "2020-09-21                            26.333333                   2.666667  \n",
       "2020-09-22                            26.000000                   5.333333  "
      ]
     },
     "execution_count": 25,
     "metadata": {},
     "output_type": "execute_result"
    }
   ],
   "source": [
    "DifferencePerDay.tail(10)"
   ]
  },
  {
   "cell_type": "markdown",
   "metadata": {},
   "source": [
    "Weekly result of new reported cases:"
   ]
  },
  {
   "cell_type": "code",
   "execution_count": 17,
   "metadata": {},
   "outputs": [
    {
     "data": {
      "image/png": "[encoded data removed]",
      "text/plain": [
       "<Figure size 432x288 with 1 Axes>"
      ]
     },
     "metadata": {
      "needs_background": "light"
     },
     "output_type": "display_data"
    }
   ],
   "source": [
    "ax = sns.lineplot(data=Weekly)"
   ]
  },
  {
   "cell_type": "markdown",
   "metadata": {},
   "source": [
    "Weekly result of hospital admission and deceased:"
   ]
  },
  {
   "cell_type": "code",
   "execution_count": null,
   "metadata": {},
   "outputs": [],
   "source": []
  },
  {
   "cell_type": "code",
   "execution_count": 22,
   "metadata": {},
   "outputs": [
    {
     "data": {
      "image/png": "[encoded data removed]",
      "text/plain": [
       "<Figure size 432x288 with 1 Axes>"
      ]
     },
     "metadata": {
      "needs_background": "light"
     },
     "output_type": "display_data"
    }
   ],
   "source": [
    "ax = sns.lineplot(data=Weekly['Hospital_admission_rollingsum1week'], color='orange')"
   ]
  },
  {
   "cell_type": "code",
   "execution_count": 23,
   "metadata": {},
   "outputs": [
    {
     "data": {
      "image/png": "[encoded data removed]",
      "text/plain": [
       "<Figure size 432x288 with 1 Axes>"
      ]
     },
     "metadata": {
      "needs_background": "light"
     },
     "output_type": "display_data"
    }
   ],
   "source": [
    "ax = sns.lineplot(data=Weekly['Deceased_rollingsum1week'], color='green')"
   ]
  }
 ],
 "metadata": {
  "kernelspec": {
   "display_name": "Python 3",
   "language": "python",
   "name": "python3"
  },
  "language_info": {
   "codemirror_mode": {
    "name": "ipython",
    "version": 3
   },
   "file_extension": ".py",
   "mimetype": "text/x-python",
   "name": "python",
   "nbconvert_exporter": "python",
   "pygments_lexer": "ipython3",
   "version": "3.8.5"
  }
 },
 "nbformat": 4,
 "nbformat_minor": 4
}
